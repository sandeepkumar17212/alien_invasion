{
 "cells": [
  {
   "cell_type": "code",
   "execution_count": 1,
   "id": "24d32de6",
   "metadata": {
    "_cell_guid": "b1076dfc-b9ad-4769-8c92-a6c4dae69d19",
    "_uuid": "8f2839f25d086af736a60e9eeb907d3b93b6e0e5",
    "execution": {
     "iopub.execute_input": "2025-03-16T23:40:20.903617Z",
     "iopub.status.busy": "2025-03-16T23:40:20.903244Z",
     "iopub.status.idle": "2025-03-16T23:40:21.769450Z",
     "shell.execute_reply": "2025-03-16T23:40:21.768326Z"
    },
    "jupyter": {
     "source_hidden": true
    },
    "papermill": {
     "duration": 0.873849,
     "end_time": "2025-03-16T23:40:21.771124",
     "exception": false,
     "start_time": "2025-03-16T23:40:20.897275",
     "status": "completed"
    },
    "tags": []
   },
   "outputs": [
    {
     "name": "stdout",
     "output_type": "stream",
     "text": [
      "/kaggle/input/fitbit/mturkfitbit_export_3.12.16-4.11.16/Fitabase Data 3.12.16-4.11.16/minuteCaloriesNarrow_merged.csv\n",
      "/kaggle/input/fitbit/mturkfitbit_export_3.12.16-4.11.16/Fitabase Data 3.12.16-4.11.16/weightLogInfo_merged.csv\n",
      "/kaggle/input/fitbit/mturkfitbit_export_3.12.16-4.11.16/Fitabase Data 3.12.16-4.11.16/minuteMETsNarrow_merged.csv\n",
      "/kaggle/input/fitbit/mturkfitbit_export_3.12.16-4.11.16/Fitabase Data 3.12.16-4.11.16/hourlyCalories_merged.csv\n",
      "/kaggle/input/fitbit/mturkfitbit_export_3.12.16-4.11.16/Fitabase Data 3.12.16-4.11.16/heartrate_seconds_merged.csv\n",
      "/kaggle/input/fitbit/mturkfitbit_export_3.12.16-4.11.16/Fitabase Data 3.12.16-4.11.16/minuteSleep_merged.csv\n",
      "/kaggle/input/fitbit/mturkfitbit_export_3.12.16-4.11.16/Fitabase Data 3.12.16-4.11.16/hourlyIntensities_merged.csv\n",
      "/kaggle/input/fitbit/mturkfitbit_export_3.12.16-4.11.16/Fitabase Data 3.12.16-4.11.16/hourlySteps_merged.csv\n",
      "/kaggle/input/fitbit/mturkfitbit_export_3.12.16-4.11.16/Fitabase Data 3.12.16-4.11.16/minuteStepsNarrow_merged.csv\n",
      "/kaggle/input/fitbit/mturkfitbit_export_3.12.16-4.11.16/Fitabase Data 3.12.16-4.11.16/minuteIntensitiesNarrow_merged.csv\n",
      "/kaggle/input/fitbit/mturkfitbit_export_3.12.16-4.11.16/Fitabase Data 3.12.16-4.11.16/dailyActivity_merged.csv\n",
      "/kaggle/input/fitbit/mturkfitbit_export_4.12.16-5.12.16/Fitabase Data 4.12.16-5.12.16/minuteCaloriesNarrow_merged.csv\n",
      "/kaggle/input/fitbit/mturkfitbit_export_4.12.16-5.12.16/Fitabase Data 4.12.16-5.12.16/weightLogInfo_merged.csv\n",
      "/kaggle/input/fitbit/mturkfitbit_export_4.12.16-5.12.16/Fitabase Data 4.12.16-5.12.16/sleepDay_merged.csv\n",
      "/kaggle/input/fitbit/mturkfitbit_export_4.12.16-5.12.16/Fitabase Data 4.12.16-5.12.16/dailyIntensities_merged.csv\n",
      "/kaggle/input/fitbit/mturkfitbit_export_4.12.16-5.12.16/Fitabase Data 4.12.16-5.12.16/minuteIntensitiesWide_merged.csv\n",
      "/kaggle/input/fitbit/mturkfitbit_export_4.12.16-5.12.16/Fitabase Data 4.12.16-5.12.16/minuteMETsNarrow_merged.csv\n",
      "/kaggle/input/fitbit/mturkfitbit_export_4.12.16-5.12.16/Fitabase Data 4.12.16-5.12.16/dailyCalories_merged.csv\n",
      "/kaggle/input/fitbit/mturkfitbit_export_4.12.16-5.12.16/Fitabase Data 4.12.16-5.12.16/hourlyCalories_merged.csv\n",
      "/kaggle/input/fitbit/mturkfitbit_export_4.12.16-5.12.16/Fitabase Data 4.12.16-5.12.16/heartrate_seconds_merged.csv\n",
      "/kaggle/input/fitbit/mturkfitbit_export_4.12.16-5.12.16/Fitabase Data 4.12.16-5.12.16/minuteSleep_merged.csv\n",
      "/kaggle/input/fitbit/mturkfitbit_export_4.12.16-5.12.16/Fitabase Data 4.12.16-5.12.16/hourlyIntensities_merged.csv\n",
      "/kaggle/input/fitbit/mturkfitbit_export_4.12.16-5.12.16/Fitabase Data 4.12.16-5.12.16/hourlySteps_merged.csv\n",
      "/kaggle/input/fitbit/mturkfitbit_export_4.12.16-5.12.16/Fitabase Data 4.12.16-5.12.16/minuteStepsNarrow_merged.csv\n",
      "/kaggle/input/fitbit/mturkfitbit_export_4.12.16-5.12.16/Fitabase Data 4.12.16-5.12.16/dailySteps_merged.csv\n",
      "/kaggle/input/fitbit/mturkfitbit_export_4.12.16-5.12.16/Fitabase Data 4.12.16-5.12.16/minuteStepsWide_merged.csv\n",
      "/kaggle/input/fitbit/mturkfitbit_export_4.12.16-5.12.16/Fitabase Data 4.12.16-5.12.16/minuteIntensitiesNarrow_merged.csv\n",
      "/kaggle/input/fitbit/mturkfitbit_export_4.12.16-5.12.16/Fitabase Data 4.12.16-5.12.16/minuteCaloriesWide_merged.csv\n",
      "/kaggle/input/fitbit/mturkfitbit_export_4.12.16-5.12.16/Fitabase Data 4.12.16-5.12.16/dailyActivity_merged.csv\n"
     ]
    }
   ],
   "source": [
    "# This Python 3 environment comes with many helpful analytics libraries installed\n",
    "# It is defined by the kaggle/python Docker image: https://github.com/kaggle/docker-python\n",
    "# For example, here's several helpful packages to load\n",
    "\n",
    "import numpy as np # linear algebra\n",
    "import pandas as pd # data processing, CSV file I/O (e.g. pd.read_csv)\n",
    "\n",
    "# Input data files are available in the read-only \"../input/\" directory\n",
    "# For example, running this (by clicking run or pressing Shift+Enter) will list all files under the input directory\n",
    "\n",
    "import os\n",
    "for dirname, _, filenames in os.walk('/kaggle/input'):\n",
    "    for filename in filenames:\n",
    "        print(os.path.join(dirname, filename))\n",
    "\n",
    "# You can write up to 20GB to the current directory (/kaggle/working/) that gets preserved as output when you create a version using \"Save & Run All\" \n",
    "# You can also write temporary files to /kaggle/temp/, but they won't be saved outside of the current session"
   ]
  },
  {
   "cell_type": "code",
   "execution_count": 2,
   "id": "bc87a5a0",
   "metadata": {
    "execution": {
     "iopub.execute_input": "2025-03-16T23:40:21.780893Z",
     "iopub.status.busy": "2025-03-16T23:40:21.780446Z",
     "iopub.status.idle": "2025-03-16T23:40:21.806415Z",
     "shell.execute_reply": "2025-03-16T23:40:21.805454Z"
    },
    "papermill": {
     "duration": 0.032453,
     "end_time": "2025-03-16T23:40:21.808135",
     "exception": false,
     "start_time": "2025-03-16T23:40:21.775682",
     "status": "completed"
    },
    "tags": []
   },
   "outputs": [],
   "source": [
    "daily_activity_merged = pd.read_csv(\"/kaggle/input/fitbit/mturkfitbit_export_4.12.16-5.12.16/Fitabase Data 4.12.16-5.12.16/dailyActivity_merged.csv\")"
   ]
  },
  {
   "cell_type": "code",
   "execution_count": 3,
   "id": "a1832238",
   "metadata": {
    "execution": {
     "iopub.execute_input": "2025-03-16T23:40:21.817668Z",
     "iopub.status.busy": "2025-03-16T23:40:21.817347Z",
     "iopub.status.idle": "2025-03-16T23:40:21.827081Z",
     "shell.execute_reply": "2025-03-16T23:40:21.826105Z"
    },
    "papermill": {
     "duration": 0.016192,
     "end_time": "2025-03-16T23:40:21.828679",
     "exception": false,
     "start_time": "2025-03-16T23:40:21.812487",
     "status": "completed"
    },
    "tags": []
   },
   "outputs": [],
   "source": [
    "daily_calories_merged = pd.read_csv(\"/kaggle/input/fitbit/mturkfitbit_export_4.12.16-5.12.16/Fitabase Data 4.12.16-5.12.16/dailyCalories_merged.csv\")"
   ]
  },
  {
   "cell_type": "code",
   "execution_count": 4,
   "id": "f756843f",
   "metadata": {
    "execution": {
     "iopub.execute_input": "2025-03-16T23:40:21.838123Z",
     "iopub.status.busy": "2025-03-16T23:40:21.837806Z",
     "iopub.status.idle": "2025-03-16T23:40:21.848690Z",
     "shell.execute_reply": "2025-03-16T23:40:21.847779Z"
    },
    "papermill": {
     "duration": 0.017169,
     "end_time": "2025-03-16T23:40:21.850234",
     "exception": false,
     "start_time": "2025-03-16T23:40:21.833065",
     "status": "completed"
    },
    "tags": []
   },
   "outputs": [],
   "source": [
    "daily_intensity_merged = pd.read_csv(\"/kaggle/input/fitbit/mturkfitbit_export_4.12.16-5.12.16/Fitabase Data 4.12.16-5.12.16/dailyIntensities_merged.csv\")"
   ]
  },
  {
   "cell_type": "code",
   "execution_count": 5,
   "id": "edc24506",
   "metadata": {
    "execution": {
     "iopub.execute_input": "2025-03-16T23:40:21.859427Z",
     "iopub.status.busy": "2025-03-16T23:40:21.859135Z",
     "iopub.status.idle": "2025-03-16T23:40:21.868974Z",
     "shell.execute_reply": "2025-03-16T23:40:21.868020Z"
    },
    "papermill": {
     "duration": 0.016188,
     "end_time": "2025-03-16T23:40:21.870616",
     "exception": false,
     "start_time": "2025-03-16T23:40:21.854428",
     "status": "completed"
    },
    "tags": []
   },
   "outputs": [],
   "source": [
    "daily_steps_merged = pd.read_csv(\"/kaggle/input/fitbit/mturkfitbit_export_4.12.16-5.12.16/Fitabase Data 4.12.16-5.12.16/dailySteps_merged.csv\")"
   ]
  },
  {
   "cell_type": "code",
   "execution_count": 6,
   "id": "dfab20cd",
   "metadata": {
    "execution": {
     "iopub.execute_input": "2025-03-16T23:40:21.880463Z",
     "iopub.status.busy": "2025-03-16T23:40:21.880143Z",
     "iopub.status.idle": "2025-03-16T23:40:21.890336Z",
     "shell.execute_reply": "2025-03-16T23:40:21.889493Z"
    },
    "papermill": {
     "duration": 0.016883,
     "end_time": "2025-03-16T23:40:21.891961",
     "exception": false,
     "start_time": "2025-03-16T23:40:21.875078",
     "status": "completed"
    },
    "tags": []
   },
   "outputs": [],
   "source": [
    "daily_sleep_merged = pd.read_csv(\"/kaggle/input/fitbit/mturkfitbit_export_4.12.16-5.12.16/Fitabase Data 4.12.16-5.12.16/sleepDay_merged.csv\")"
   ]
  },
  {
   "cell_type": "code",
   "execution_count": 7,
   "id": "7f5fbf0a",
   "metadata": {
    "execution": {
     "iopub.execute_input": "2025-03-16T23:40:21.901796Z",
     "iopub.status.busy": "2025-03-16T23:40:21.901444Z",
     "iopub.status.idle": "2025-03-16T23:40:21.913834Z",
     "shell.execute_reply": "2025-03-16T23:40:21.912824Z"
    },
    "papermill": {
     "duration": 0.019297,
     "end_time": "2025-03-16T23:40:21.915617",
     "exception": false,
     "start_time": "2025-03-16T23:40:21.896320",
     "status": "completed"
    },
    "tags": []
   },
   "outputs": [],
   "source": [
    "weightloginfo = pd.read_csv(\"/kaggle/input/fitbit/mturkfitbit_export_4.12.16-5.12.16/Fitabase Data 4.12.16-5.12.16/weightLogInfo_merged.csv\")"
   ]
  },
  {
   "cell_type": "markdown",
   "id": "b070aa13",
   "metadata": {
    "papermill": {
     "duration": 0.004018,
     "end_time": "2025-03-16T23:40:21.924123",
     "exception": false,
     "start_time": "2025-03-16T23:40:21.920105",
     "status": "completed"
    },
    "tags": []
   },
   "source": [
    "# explore all datasets- \n",
    "## datasets imported till now- \n",
    "1. daily_activity_merged\n",
    "2. daily_calories_merged\n",
    "3. daily_intensity_merged\n",
    "4. daily_steps_merged\n",
    "5. daily_sleep_merged\n",
    "6. weightloginfo\n",
    "\n",
    "findings after exploring-  \n",
    "\n",
    "1. daily_activity_merged ---  need to fix columns datatype\n",
    "2. daily_calories_merged\n",
    "3. daily_intensity_merged\n",
    "4. daily_steps_merged\n",
    "5. daily_sleep_merged\n",
    "6. weightloginfo"
   ]
  },
  {
   "cell_type": "code",
   "execution_count": 8,
   "id": "e79a5ca0",
   "metadata": {
    "execution": {
     "iopub.execute_input": "2025-03-16T23:40:21.933498Z",
     "iopub.status.busy": "2025-03-16T23:40:21.933169Z",
     "iopub.status.idle": "2025-03-16T23:40:21.963346Z",
     "shell.execute_reply": "2025-03-16T23:40:21.962374Z"
    },
    "papermill": {
     "duration": 0.036703,
     "end_time": "2025-03-16T23:40:21.964921",
     "exception": false,
     "start_time": "2025-03-16T23:40:21.928218",
     "status": "completed"
    },
    "tags": []
   },
   "outputs": [
    {
     "data": {
      "text/html": [
       "<div>\n",
       "<style scoped>\n",
       "    .dataframe tbody tr th:only-of-type {\n",
       "        vertical-align: middle;\n",
       "    }\n",
       "\n",
       "    .dataframe tbody tr th {\n",
       "        vertical-align: top;\n",
       "    }\n",
       "\n",
       "    .dataframe thead th {\n",
       "        text-align: right;\n",
       "    }\n",
       "</style>\n",
       "<table border=\"1\" class=\"dataframe\">\n",
       "  <thead>\n",
       "    <tr style=\"text-align: right;\">\n",
       "      <th></th>\n",
       "      <th>Id</th>\n",
       "      <th>ActivityDate</th>\n",
       "      <th>TotalSteps</th>\n",
       "      <th>TotalDistance</th>\n",
       "      <th>TrackerDistance</th>\n",
       "      <th>LoggedActivitiesDistance</th>\n",
       "      <th>VeryActiveDistance</th>\n",
       "      <th>ModeratelyActiveDistance</th>\n",
       "      <th>LightActiveDistance</th>\n",
       "      <th>SedentaryActiveDistance</th>\n",
       "      <th>VeryActiveMinutes</th>\n",
       "      <th>FairlyActiveMinutes</th>\n",
       "      <th>LightlyActiveMinutes</th>\n",
       "      <th>SedentaryMinutes</th>\n",
       "      <th>Calories</th>\n",
       "    </tr>\n",
       "  </thead>\n",
       "  <tbody>\n",
       "    <tr>\n",
       "      <th>0</th>\n",
       "      <td>1503960366</td>\n",
       "      <td>4/12/2016</td>\n",
       "      <td>13162</td>\n",
       "      <td>8.50</td>\n",
       "      <td>8.50</td>\n",
       "      <td>0.0</td>\n",
       "      <td>1.88</td>\n",
       "      <td>0.55</td>\n",
       "      <td>6.06</td>\n",
       "      <td>0.0</td>\n",
       "      <td>25</td>\n",
       "      <td>13</td>\n",
       "      <td>328</td>\n",
       "      <td>728</td>\n",
       "      <td>1985</td>\n",
       "    </tr>\n",
       "    <tr>\n",
       "      <th>1</th>\n",
       "      <td>1503960366</td>\n",
       "      <td>4/13/2016</td>\n",
       "      <td>10735</td>\n",
       "      <td>6.97</td>\n",
       "      <td>6.97</td>\n",
       "      <td>0.0</td>\n",
       "      <td>1.57</td>\n",
       "      <td>0.69</td>\n",
       "      <td>4.71</td>\n",
       "      <td>0.0</td>\n",
       "      <td>21</td>\n",
       "      <td>19</td>\n",
       "      <td>217</td>\n",
       "      <td>776</td>\n",
       "      <td>1797</td>\n",
       "    </tr>\n",
       "    <tr>\n",
       "      <th>2</th>\n",
       "      <td>1503960366</td>\n",
       "      <td>4/14/2016</td>\n",
       "      <td>10460</td>\n",
       "      <td>6.74</td>\n",
       "      <td>6.74</td>\n",
       "      <td>0.0</td>\n",
       "      <td>2.44</td>\n",
       "      <td>0.40</td>\n",
       "      <td>3.91</td>\n",
       "      <td>0.0</td>\n",
       "      <td>30</td>\n",
       "      <td>11</td>\n",
       "      <td>181</td>\n",
       "      <td>1218</td>\n",
       "      <td>1776</td>\n",
       "    </tr>\n",
       "    <tr>\n",
       "      <th>3</th>\n",
       "      <td>1503960366</td>\n",
       "      <td>4/15/2016</td>\n",
       "      <td>9762</td>\n",
       "      <td>6.28</td>\n",
       "      <td>6.28</td>\n",
       "      <td>0.0</td>\n",
       "      <td>2.14</td>\n",
       "      <td>1.26</td>\n",
       "      <td>2.83</td>\n",
       "      <td>0.0</td>\n",
       "      <td>29</td>\n",
       "      <td>34</td>\n",
       "      <td>209</td>\n",
       "      <td>726</td>\n",
       "      <td>1745</td>\n",
       "    </tr>\n",
       "    <tr>\n",
       "      <th>4</th>\n",
       "      <td>1503960366</td>\n",
       "      <td>4/16/2016</td>\n",
       "      <td>12669</td>\n",
       "      <td>8.16</td>\n",
       "      <td>8.16</td>\n",
       "      <td>0.0</td>\n",
       "      <td>2.71</td>\n",
       "      <td>0.41</td>\n",
       "      <td>5.04</td>\n",
       "      <td>0.0</td>\n",
       "      <td>36</td>\n",
       "      <td>10</td>\n",
       "      <td>221</td>\n",
       "      <td>773</td>\n",
       "      <td>1863</td>\n",
       "    </tr>\n",
       "  </tbody>\n",
       "</table>\n",
       "</div>"
      ],
      "text/plain": [
       "           Id ActivityDate  TotalSteps  TotalDistance  TrackerDistance  \\\n",
       "0  1503960366    4/12/2016       13162           8.50             8.50   \n",
       "1  1503960366    4/13/2016       10735           6.97             6.97   \n",
       "2  1503960366    4/14/2016       10460           6.74             6.74   \n",
       "3  1503960366    4/15/2016        9762           6.28             6.28   \n",
       "4  1503960366    4/16/2016       12669           8.16             8.16   \n",
       "\n",
       "   LoggedActivitiesDistance  VeryActiveDistance  ModeratelyActiveDistance  \\\n",
       "0                       0.0                1.88                      0.55   \n",
       "1                       0.0                1.57                      0.69   \n",
       "2                       0.0                2.44                      0.40   \n",
       "3                       0.0                2.14                      1.26   \n",
       "4                       0.0                2.71                      0.41   \n",
       "\n",
       "   LightActiveDistance  SedentaryActiveDistance  VeryActiveMinutes  \\\n",
       "0                 6.06                      0.0                 25   \n",
       "1                 4.71                      0.0                 21   \n",
       "2                 3.91                      0.0                 30   \n",
       "3                 2.83                      0.0                 29   \n",
       "4                 5.04                      0.0                 36   \n",
       "\n",
       "   FairlyActiveMinutes  LightlyActiveMinutes  SedentaryMinutes  Calories  \n",
       "0                   13                   328               728      1985  \n",
       "1                   19                   217               776      1797  \n",
       "2                   11                   181              1218      1776  \n",
       "3                   34                   209               726      1745  \n",
       "4                   10                   221               773      1863  "
      ]
     },
     "execution_count": 8,
     "metadata": {},
     "output_type": "execute_result"
    }
   ],
   "source": [
    "daily_activity_merged.head()"
   ]
  },
  {
   "cell_type": "code",
   "execution_count": 9,
   "id": "4aedcb5d",
   "metadata": {
    "execution": {
     "iopub.execute_input": "2025-03-16T23:40:21.975119Z",
     "iopub.status.busy": "2025-03-16T23:40:21.974781Z",
     "iopub.status.idle": "2025-03-16T23:40:21.990060Z",
     "shell.execute_reply": "2025-03-16T23:40:21.989131Z"
    },
    "papermill": {
     "duration": 0.02207,
     "end_time": "2025-03-16T23:40:21.991496",
     "exception": false,
     "start_time": "2025-03-16T23:40:21.969426",
     "status": "completed"
    },
    "tags": []
   },
   "outputs": [
    {
     "data": {
      "text/html": [
       "<div>\n",
       "<style scoped>\n",
       "    .dataframe tbody tr th:only-of-type {\n",
       "        vertical-align: middle;\n",
       "    }\n",
       "\n",
       "    .dataframe tbody tr th {\n",
       "        vertical-align: top;\n",
       "    }\n",
       "\n",
       "    .dataframe thead th {\n",
       "        text-align: right;\n",
       "    }\n",
       "</style>\n",
       "<table border=\"1\" class=\"dataframe\">\n",
       "  <thead>\n",
       "    <tr style=\"text-align: right;\">\n",
       "      <th></th>\n",
       "      <th>Id</th>\n",
       "      <th>ActivityDate</th>\n",
       "      <th>TotalSteps</th>\n",
       "      <th>TotalDistance</th>\n",
       "      <th>TrackerDistance</th>\n",
       "      <th>LoggedActivitiesDistance</th>\n",
       "      <th>VeryActiveDistance</th>\n",
       "      <th>ModeratelyActiveDistance</th>\n",
       "      <th>LightActiveDistance</th>\n",
       "      <th>SedentaryActiveDistance</th>\n",
       "      <th>VeryActiveMinutes</th>\n",
       "      <th>FairlyActiveMinutes</th>\n",
       "      <th>LightlyActiveMinutes</th>\n",
       "      <th>SedentaryMinutes</th>\n",
       "      <th>Calories</th>\n",
       "    </tr>\n",
       "  </thead>\n",
       "  <tbody>\n",
       "    <tr>\n",
       "      <th>935</th>\n",
       "      <td>8877689391</td>\n",
       "      <td>5/8/2016</td>\n",
       "      <td>10686</td>\n",
       "      <td>8.110000</td>\n",
       "      <td>8.110000</td>\n",
       "      <td>0.0</td>\n",
       "      <td>1.08</td>\n",
       "      <td>0.20</td>\n",
       "      <td>6.80</td>\n",
       "      <td>0.00</td>\n",
       "      <td>17</td>\n",
       "      <td>4</td>\n",
       "      <td>245</td>\n",
       "      <td>1174</td>\n",
       "      <td>2847</td>\n",
       "    </tr>\n",
       "    <tr>\n",
       "      <th>936</th>\n",
       "      <td>8877689391</td>\n",
       "      <td>5/9/2016</td>\n",
       "      <td>20226</td>\n",
       "      <td>18.250000</td>\n",
       "      <td>18.250000</td>\n",
       "      <td>0.0</td>\n",
       "      <td>11.10</td>\n",
       "      <td>0.80</td>\n",
       "      <td>6.24</td>\n",
       "      <td>0.05</td>\n",
       "      <td>73</td>\n",
       "      <td>19</td>\n",
       "      <td>217</td>\n",
       "      <td>1131</td>\n",
       "      <td>3710</td>\n",
       "    </tr>\n",
       "    <tr>\n",
       "      <th>937</th>\n",
       "      <td>8877689391</td>\n",
       "      <td>5/10/2016</td>\n",
       "      <td>10733</td>\n",
       "      <td>8.150000</td>\n",
       "      <td>8.150000</td>\n",
       "      <td>0.0</td>\n",
       "      <td>1.35</td>\n",
       "      <td>0.46</td>\n",
       "      <td>6.28</td>\n",
       "      <td>0.00</td>\n",
       "      <td>18</td>\n",
       "      <td>11</td>\n",
       "      <td>224</td>\n",
       "      <td>1187</td>\n",
       "      <td>2832</td>\n",
       "    </tr>\n",
       "    <tr>\n",
       "      <th>938</th>\n",
       "      <td>8877689391</td>\n",
       "      <td>5/11/2016</td>\n",
       "      <td>21420</td>\n",
       "      <td>19.559999</td>\n",
       "      <td>19.559999</td>\n",
       "      <td>0.0</td>\n",
       "      <td>13.22</td>\n",
       "      <td>0.41</td>\n",
       "      <td>5.89</td>\n",
       "      <td>0.00</td>\n",
       "      <td>88</td>\n",
       "      <td>12</td>\n",
       "      <td>213</td>\n",
       "      <td>1127</td>\n",
       "      <td>3832</td>\n",
       "    </tr>\n",
       "    <tr>\n",
       "      <th>939</th>\n",
       "      <td>8877689391</td>\n",
       "      <td>5/12/2016</td>\n",
       "      <td>8064</td>\n",
       "      <td>6.120000</td>\n",
       "      <td>6.120000</td>\n",
       "      <td>0.0</td>\n",
       "      <td>1.82</td>\n",
       "      <td>0.04</td>\n",
       "      <td>4.25</td>\n",
       "      <td>0.00</td>\n",
       "      <td>23</td>\n",
       "      <td>1</td>\n",
       "      <td>137</td>\n",
       "      <td>770</td>\n",
       "      <td>1849</td>\n",
       "    </tr>\n",
       "  </tbody>\n",
       "</table>\n",
       "</div>"
      ],
      "text/plain": [
       "             Id ActivityDate  TotalSteps  TotalDistance  TrackerDistance  \\\n",
       "935  8877689391     5/8/2016       10686       8.110000         8.110000   \n",
       "936  8877689391     5/9/2016       20226      18.250000        18.250000   \n",
       "937  8877689391    5/10/2016       10733       8.150000         8.150000   \n",
       "938  8877689391    5/11/2016       21420      19.559999        19.559999   \n",
       "939  8877689391    5/12/2016        8064       6.120000         6.120000   \n",
       "\n",
       "     LoggedActivitiesDistance  VeryActiveDistance  ModeratelyActiveDistance  \\\n",
       "935                       0.0                1.08                      0.20   \n",
       "936                       0.0               11.10                      0.80   \n",
       "937                       0.0                1.35                      0.46   \n",
       "938                       0.0               13.22                      0.41   \n",
       "939                       0.0                1.82                      0.04   \n",
       "\n",
       "     LightActiveDistance  SedentaryActiveDistance  VeryActiveMinutes  \\\n",
       "935                 6.80                     0.00                 17   \n",
       "936                 6.24                     0.05                 73   \n",
       "937                 6.28                     0.00                 18   \n",
       "938                 5.89                     0.00                 88   \n",
       "939                 4.25                     0.00                 23   \n",
       "\n",
       "     FairlyActiveMinutes  LightlyActiveMinutes  SedentaryMinutes  Calories  \n",
       "935                    4                   245              1174      2847  \n",
       "936                   19                   217              1131      3710  \n",
       "937                   11                   224              1187      2832  \n",
       "938                   12                   213              1127      3832  \n",
       "939                    1                   137               770      1849  "
      ]
     },
     "execution_count": 9,
     "metadata": {},
     "output_type": "execute_result"
    }
   ],
   "source": [
    "daily_activity_merged.tail()"
   ]
  },
  {
   "cell_type": "code",
   "execution_count": 10,
   "id": "9cb890a2",
   "metadata": {
    "execution": {
     "iopub.execute_input": "2025-03-16T23:40:22.002071Z",
     "iopub.status.busy": "2025-03-16T23:40:22.001725Z",
     "iopub.status.idle": "2025-03-16T23:40:22.024129Z",
     "shell.execute_reply": "2025-03-16T23:40:22.022831Z"
    },
    "papermill": {
     "duration": 0.029585,
     "end_time": "2025-03-16T23:40:22.025799",
     "exception": false,
     "start_time": "2025-03-16T23:40:21.996214",
     "status": "completed"
    },
    "tags": []
   },
   "outputs": [
    {
     "name": "stdout",
     "output_type": "stream",
     "text": [
      "<class 'pandas.core.frame.DataFrame'>\n",
      "RangeIndex: 940 entries, 0 to 939\n",
      "Data columns (total 15 columns):\n",
      " #   Column                    Non-Null Count  Dtype  \n",
      "---  ------                    --------------  -----  \n",
      " 0   Id                        940 non-null    int64  \n",
      " 1   ActivityDate              940 non-null    object \n",
      " 2   TotalSteps                940 non-null    int64  \n",
      " 3   TotalDistance             940 non-null    float64\n",
      " 4   TrackerDistance           940 non-null    float64\n",
      " 5   LoggedActivitiesDistance  940 non-null    float64\n",
      " 6   VeryActiveDistance        940 non-null    float64\n",
      " 7   ModeratelyActiveDistance  940 non-null    float64\n",
      " 8   LightActiveDistance       940 non-null    float64\n",
      " 9   SedentaryActiveDistance   940 non-null    float64\n",
      " 10  VeryActiveMinutes         940 non-null    int64  \n",
      " 11  FairlyActiveMinutes       940 non-null    int64  \n",
      " 12  LightlyActiveMinutes      940 non-null    int64  \n",
      " 13  SedentaryMinutes          940 non-null    int64  \n",
      " 14  Calories                  940 non-null    int64  \n",
      "dtypes: float64(7), int64(7), object(1)\n",
      "memory usage: 110.3+ KB\n"
     ]
    }
   ],
   "source": [
    "daily_activity_merged.info()"
   ]
  },
  {
   "cell_type": "code",
   "execution_count": 11,
   "id": "7d08f0bf",
   "metadata": {
    "execution": {
     "iopub.execute_input": "2025-03-16T23:40:22.036687Z",
     "iopub.status.busy": "2025-03-16T23:40:22.036316Z",
     "iopub.status.idle": "2025-03-16T23:40:22.076896Z",
     "shell.execute_reply": "2025-03-16T23:40:22.075891Z"
    },
    "papermill": {
     "duration": 0.047646,
     "end_time": "2025-03-16T23:40:22.078334",
     "exception": false,
     "start_time": "2025-03-16T23:40:22.030688",
     "status": "completed"
    },
    "tags": []
   },
   "outputs": [
    {
     "data": {
      "text/html": [
       "<div>\n",
       "<style scoped>\n",
       "    .dataframe tbody tr th:only-of-type {\n",
       "        vertical-align: middle;\n",
       "    }\n",
       "\n",
       "    .dataframe tbody tr th {\n",
       "        vertical-align: top;\n",
       "    }\n",
       "\n",
       "    .dataframe thead th {\n",
       "        text-align: right;\n",
       "    }\n",
       "</style>\n",
       "<table border=\"1\" class=\"dataframe\">\n",
       "  <thead>\n",
       "    <tr style=\"text-align: right;\">\n",
       "      <th></th>\n",
       "      <th>Id</th>\n",
       "      <th>TotalSteps</th>\n",
       "      <th>TotalDistance</th>\n",
       "      <th>TrackerDistance</th>\n",
       "      <th>LoggedActivitiesDistance</th>\n",
       "      <th>VeryActiveDistance</th>\n",
       "      <th>ModeratelyActiveDistance</th>\n",
       "      <th>LightActiveDistance</th>\n",
       "      <th>SedentaryActiveDistance</th>\n",
       "      <th>VeryActiveMinutes</th>\n",
       "      <th>FairlyActiveMinutes</th>\n",
       "      <th>LightlyActiveMinutes</th>\n",
       "      <th>SedentaryMinutes</th>\n",
       "      <th>Calories</th>\n",
       "    </tr>\n",
       "  </thead>\n",
       "  <tbody>\n",
       "    <tr>\n",
       "      <th>count</th>\n",
       "      <td>9.400000e+02</td>\n",
       "      <td>940.000000</td>\n",
       "      <td>940.000000</td>\n",
       "      <td>940.000000</td>\n",
       "      <td>940.000000</td>\n",
       "      <td>940.000000</td>\n",
       "      <td>940.000000</td>\n",
       "      <td>940.000000</td>\n",
       "      <td>940.000000</td>\n",
       "      <td>940.000000</td>\n",
       "      <td>940.000000</td>\n",
       "      <td>940.000000</td>\n",
       "      <td>940.000000</td>\n",
       "      <td>940.000000</td>\n",
       "    </tr>\n",
       "    <tr>\n",
       "      <th>mean</th>\n",
       "      <td>4.855407e+09</td>\n",
       "      <td>7637.910638</td>\n",
       "      <td>5.489702</td>\n",
       "      <td>5.475351</td>\n",
       "      <td>0.108171</td>\n",
       "      <td>1.502681</td>\n",
       "      <td>0.567543</td>\n",
       "      <td>3.340819</td>\n",
       "      <td>0.001606</td>\n",
       "      <td>21.164894</td>\n",
       "      <td>13.564894</td>\n",
       "      <td>192.812766</td>\n",
       "      <td>991.210638</td>\n",
       "      <td>2303.609574</td>\n",
       "    </tr>\n",
       "    <tr>\n",
       "      <th>std</th>\n",
       "      <td>2.424805e+09</td>\n",
       "      <td>5087.150742</td>\n",
       "      <td>3.924606</td>\n",
       "      <td>3.907276</td>\n",
       "      <td>0.619897</td>\n",
       "      <td>2.658941</td>\n",
       "      <td>0.883580</td>\n",
       "      <td>2.040655</td>\n",
       "      <td>0.007346</td>\n",
       "      <td>32.844803</td>\n",
       "      <td>19.987404</td>\n",
       "      <td>109.174700</td>\n",
       "      <td>301.267437</td>\n",
       "      <td>718.166862</td>\n",
       "    </tr>\n",
       "    <tr>\n",
       "      <th>min</th>\n",
       "      <td>1.503960e+09</td>\n",
       "      <td>0.000000</td>\n",
       "      <td>0.000000</td>\n",
       "      <td>0.000000</td>\n",
       "      <td>0.000000</td>\n",
       "      <td>0.000000</td>\n",
       "      <td>0.000000</td>\n",
       "      <td>0.000000</td>\n",
       "      <td>0.000000</td>\n",
       "      <td>0.000000</td>\n",
       "      <td>0.000000</td>\n",
       "      <td>0.000000</td>\n",
       "      <td>0.000000</td>\n",
       "      <td>0.000000</td>\n",
       "    </tr>\n",
       "    <tr>\n",
       "      <th>25%</th>\n",
       "      <td>2.320127e+09</td>\n",
       "      <td>3789.750000</td>\n",
       "      <td>2.620000</td>\n",
       "      <td>2.620000</td>\n",
       "      <td>0.000000</td>\n",
       "      <td>0.000000</td>\n",
       "      <td>0.000000</td>\n",
       "      <td>1.945000</td>\n",
       "      <td>0.000000</td>\n",
       "      <td>0.000000</td>\n",
       "      <td>0.000000</td>\n",
       "      <td>127.000000</td>\n",
       "      <td>729.750000</td>\n",
       "      <td>1828.500000</td>\n",
       "    </tr>\n",
       "    <tr>\n",
       "      <th>50%</th>\n",
       "      <td>4.445115e+09</td>\n",
       "      <td>7405.500000</td>\n",
       "      <td>5.245000</td>\n",
       "      <td>5.245000</td>\n",
       "      <td>0.000000</td>\n",
       "      <td>0.210000</td>\n",
       "      <td>0.240000</td>\n",
       "      <td>3.365000</td>\n",
       "      <td>0.000000</td>\n",
       "      <td>4.000000</td>\n",
       "      <td>6.000000</td>\n",
       "      <td>199.000000</td>\n",
       "      <td>1057.500000</td>\n",
       "      <td>2134.000000</td>\n",
       "    </tr>\n",
       "    <tr>\n",
       "      <th>75%</th>\n",
       "      <td>6.962181e+09</td>\n",
       "      <td>10727.000000</td>\n",
       "      <td>7.712500</td>\n",
       "      <td>7.710000</td>\n",
       "      <td>0.000000</td>\n",
       "      <td>2.052500</td>\n",
       "      <td>0.800000</td>\n",
       "      <td>4.782500</td>\n",
       "      <td>0.000000</td>\n",
       "      <td>32.000000</td>\n",
       "      <td>19.000000</td>\n",
       "      <td>264.000000</td>\n",
       "      <td>1229.500000</td>\n",
       "      <td>2793.250000</td>\n",
       "    </tr>\n",
       "    <tr>\n",
       "      <th>max</th>\n",
       "      <td>8.877689e+09</td>\n",
       "      <td>36019.000000</td>\n",
       "      <td>28.030001</td>\n",
       "      <td>28.030001</td>\n",
       "      <td>4.942142</td>\n",
       "      <td>21.920000</td>\n",
       "      <td>6.480000</td>\n",
       "      <td>10.710000</td>\n",
       "      <td>0.110000</td>\n",
       "      <td>210.000000</td>\n",
       "      <td>143.000000</td>\n",
       "      <td>518.000000</td>\n",
       "      <td>1440.000000</td>\n",
       "      <td>4900.000000</td>\n",
       "    </tr>\n",
       "  </tbody>\n",
       "</table>\n",
       "</div>"
      ],
      "text/plain": [
       "                 Id    TotalSteps  TotalDistance  TrackerDistance  \\\n",
       "count  9.400000e+02    940.000000     940.000000       940.000000   \n",
       "mean   4.855407e+09   7637.910638       5.489702         5.475351   \n",
       "std    2.424805e+09   5087.150742       3.924606         3.907276   \n",
       "min    1.503960e+09      0.000000       0.000000         0.000000   \n",
       "25%    2.320127e+09   3789.750000       2.620000         2.620000   \n",
       "50%    4.445115e+09   7405.500000       5.245000         5.245000   \n",
       "75%    6.962181e+09  10727.000000       7.712500         7.710000   \n",
       "max    8.877689e+09  36019.000000      28.030001        28.030001   \n",
       "\n",
       "       LoggedActivitiesDistance  VeryActiveDistance  ModeratelyActiveDistance  \\\n",
       "count                940.000000          940.000000                940.000000   \n",
       "mean                   0.108171            1.502681                  0.567543   \n",
       "std                    0.619897            2.658941                  0.883580   \n",
       "min                    0.000000            0.000000                  0.000000   \n",
       "25%                    0.000000            0.000000                  0.000000   \n",
       "50%                    0.000000            0.210000                  0.240000   \n",
       "75%                    0.000000            2.052500                  0.800000   \n",
       "max                    4.942142           21.920000                  6.480000   \n",
       "\n",
       "       LightActiveDistance  SedentaryActiveDistance  VeryActiveMinutes  \\\n",
       "count           940.000000               940.000000         940.000000   \n",
       "mean              3.340819                 0.001606          21.164894   \n",
       "std               2.040655                 0.007346          32.844803   \n",
       "min               0.000000                 0.000000           0.000000   \n",
       "25%               1.945000                 0.000000           0.000000   \n",
       "50%               3.365000                 0.000000           4.000000   \n",
       "75%               4.782500                 0.000000          32.000000   \n",
       "max              10.710000                 0.110000         210.000000   \n",
       "\n",
       "       FairlyActiveMinutes  LightlyActiveMinutes  SedentaryMinutes  \\\n",
       "count           940.000000            940.000000        940.000000   \n",
       "mean             13.564894            192.812766        991.210638   \n",
       "std              19.987404            109.174700        301.267437   \n",
       "min               0.000000              0.000000          0.000000   \n",
       "25%               0.000000            127.000000        729.750000   \n",
       "50%               6.000000            199.000000       1057.500000   \n",
       "75%              19.000000            264.000000       1229.500000   \n",
       "max             143.000000            518.000000       1440.000000   \n",
       "\n",
       "          Calories  \n",
       "count   940.000000  \n",
       "mean   2303.609574  \n",
       "std     718.166862  \n",
       "min       0.000000  \n",
       "25%    1828.500000  \n",
       "50%    2134.000000  \n",
       "75%    2793.250000  \n",
       "max    4900.000000  "
      ]
     },
     "execution_count": 11,
     "metadata": {},
     "output_type": "execute_result"
    }
   ],
   "source": [
    "daily_activity_merged.describe()"
   ]
  },
  {
   "cell_type": "code",
   "execution_count": 12,
   "id": "822b69a5",
   "metadata": {
    "execution": {
     "iopub.execute_input": "2025-03-16T23:40:22.089529Z",
     "iopub.status.busy": "2025-03-16T23:40:22.089246Z",
     "iopub.status.idle": "2025-03-16T23:40:22.096185Z",
     "shell.execute_reply": "2025-03-16T23:40:22.095326Z"
    },
    "papermill": {
     "duration": 0.014196,
     "end_time": "2025-03-16T23:40:22.097628",
     "exception": false,
     "start_time": "2025-03-16T23:40:22.083432",
     "status": "completed"
    },
    "tags": []
   },
   "outputs": [
    {
     "data": {
      "text/plain": [
       "Id                          0\n",
       "ActivityDate                0\n",
       "TotalSteps                  0\n",
       "TotalDistance               0\n",
       "TrackerDistance             0\n",
       "LoggedActivitiesDistance    0\n",
       "VeryActiveDistance          0\n",
       "ModeratelyActiveDistance    0\n",
       "LightActiveDistance         0\n",
       "SedentaryActiveDistance     0\n",
       "VeryActiveMinutes           0\n",
       "FairlyActiveMinutes         0\n",
       "LightlyActiveMinutes        0\n",
       "SedentaryMinutes            0\n",
       "Calories                    0\n",
       "dtype: int64"
      ]
     },
     "execution_count": 12,
     "metadata": {},
     "output_type": "execute_result"
    }
   ],
   "source": [
    "daily_activity_merged.isnull().sum()"
   ]
  },
  {
   "cell_type": "code",
   "execution_count": 13,
   "id": "1f95b17f",
   "metadata": {
    "execution": {
     "iopub.execute_input": "2025-03-16T23:40:22.109294Z",
     "iopub.status.busy": "2025-03-16T23:40:22.108980Z",
     "iopub.status.idle": "2025-03-16T23:40:22.117402Z",
     "shell.execute_reply": "2025-03-16T23:40:22.116420Z"
    },
    "papermill": {
     "duration": 0.015897,
     "end_time": "2025-03-16T23:40:22.118929",
     "exception": false,
     "start_time": "2025-03-16T23:40:22.103032",
     "status": "completed"
    },
    "tags": []
   },
   "outputs": [
    {
     "data": {
      "text/plain": [
       "0"
      ]
     },
     "execution_count": 13,
     "metadata": {},
     "output_type": "execute_result"
    }
   ],
   "source": [
    "daily_activity_merged.duplicated().sum()"
   ]
  },
  {
   "cell_type": "markdown",
   "id": "61c8fa8e",
   "metadata": {
    "papermill": {
     "duration": 0.004959,
     "end_time": "2025-03-16T23:40:22.129298",
     "exception": false,
     "start_time": "2025-03-16T23:40:22.124339",
     "status": "completed"
    },
    "tags": []
   },
   "source": [
    "## need to change datatype for id and date column.\n",
    "## our data does not have any duplicate or null and nan"
   ]
  },
  {
   "cell_type": "code",
   "execution_count": 14,
   "id": "2a55ee45",
   "metadata": {
    "execution": {
     "iopub.execute_input": "2025-03-16T23:40:22.140698Z",
     "iopub.status.busy": "2025-03-16T23:40:22.140340Z",
     "iopub.status.idle": "2025-03-16T23:40:22.146731Z",
     "shell.execute_reply": "2025-03-16T23:40:22.145764Z"
    },
    "papermill": {
     "duration": 0.014049,
     "end_time": "2025-03-16T23:40:22.148463",
     "exception": false,
     "start_time": "2025-03-16T23:40:22.134414",
     "status": "completed"
    },
    "tags": []
   },
   "outputs": [],
   "source": [
    "daily_activity_merged[\"Id\"] = daily_activity_merged[\"Id\"].astype(\"string\")"
   ]
  },
  {
   "cell_type": "code",
   "execution_count": 15,
   "id": "8fc30a6d",
   "metadata": {
    "execution": {
     "iopub.execute_input": "2025-03-16T23:40:22.160211Z",
     "iopub.status.busy": "2025-03-16T23:40:22.159891Z",
     "iopub.status.idle": "2025-03-16T23:40:22.169732Z",
     "shell.execute_reply": "2025-03-16T23:40:22.168792Z"
    },
    "papermill": {
     "duration": 0.017421,
     "end_time": "2025-03-16T23:40:22.171384",
     "exception": false,
     "start_time": "2025-03-16T23:40:22.153963",
     "status": "completed"
    },
    "tags": []
   },
   "outputs": [],
   "source": [
    "daily_activity_merged[\"ActivityDate\"] = pd.to_datetime(daily_activity_merged[\"ActivityDate\"])"
   ]
  },
  {
   "cell_type": "code",
   "execution_count": 16,
   "id": "71cee16d",
   "metadata": {
    "execution": {
     "iopub.execute_input": "2025-03-16T23:40:22.183194Z",
     "iopub.status.busy": "2025-03-16T23:40:22.182816Z",
     "iopub.status.idle": "2025-03-16T23:40:22.193918Z",
     "shell.execute_reply": "2025-03-16T23:40:22.192795Z"
    },
    "papermill": {
     "duration": 0.018668,
     "end_time": "2025-03-16T23:40:22.195554",
     "exception": false,
     "start_time": "2025-03-16T23:40:22.176886",
     "status": "completed"
    },
    "tags": []
   },
   "outputs": [
    {
     "name": "stdout",
     "output_type": "stream",
     "text": [
      "<class 'pandas.core.frame.DataFrame'>\n",
      "RangeIndex: 940 entries, 0 to 939\n",
      "Data columns (total 15 columns):\n",
      " #   Column                    Non-Null Count  Dtype         \n",
      "---  ------                    --------------  -----         \n",
      " 0   Id                        940 non-null    string        \n",
      " 1   ActivityDate              940 non-null    datetime64[ns]\n",
      " 2   TotalSteps                940 non-null    int64         \n",
      " 3   TotalDistance             940 non-null    float64       \n",
      " 4   TrackerDistance           940 non-null    float64       \n",
      " 5   LoggedActivitiesDistance  940 non-null    float64       \n",
      " 6   VeryActiveDistance        940 non-null    float64       \n",
      " 7   ModeratelyActiveDistance  940 non-null    float64       \n",
      " 8   LightActiveDistance       940 non-null    float64       \n",
      " 9   SedentaryActiveDistance   940 non-null    float64       \n",
      " 10  VeryActiveMinutes         940 non-null    int64         \n",
      " 11  FairlyActiveMinutes       940 non-null    int64         \n",
      " 12  LightlyActiveMinutes      940 non-null    int64         \n",
      " 13  SedentaryMinutes          940 non-null    int64         \n",
      " 14  Calories                  940 non-null    int64         \n",
      "dtypes: datetime64[ns](1), float64(7), int64(6), string(1)\n",
      "memory usage: 110.3 KB\n"
     ]
    }
   ],
   "source": [
    "daily_activity_merged.info()"
   ]
  },
  {
   "cell_type": "markdown",
   "id": "4ec68fd8",
   "metadata": {
    "papermill": {
     "duration": 0.005041,
     "end_time": "2025-03-16T23:40:22.206029",
     "exception": false,
     "start_time": "2025-03-16T23:40:22.200988",
     "status": "completed"
    },
    "tags": []
   },
   "source": [
    "### daily activity dataset is cleaned now."
   ]
  }
 ],
 "metadata": {
  "kaggle": {
   "accelerator": "none",
   "dataSources": [
    {
     "datasetId": 1041311,
     "sourceId": 7746251,
     "sourceType": "datasetVersion"
    }
   ],
   "dockerImageVersionId": 30918,
   "isGpuEnabled": false,
   "isInternetEnabled": true,
   "language": "python",
   "sourceType": "notebook"
  },
  "kernelspec": {
   "display_name": "Python 3",
   "language": "python",
   "name": "python3"
  },
  "language_info": {
   "codemirror_mode": {
    "name": "ipython",
    "version": 3
   },
   "file_extension": ".py",
   "mimetype": "text/x-python",
   "name": "python",
   "nbconvert_exporter": "python",
   "pygments_lexer": "ipython3",
   "version": "3.10.12"
  },
  "papermill": {
   "default_parameters": {},
   "duration": 5.009163,
   "end_time": "2025-03-16T23:40:22.729731",
   "environment_variables": {},
   "exception": null,
   "input_path": "__notebook__.ipynb",
   "output_path": "__notebook__.ipynb",
   "parameters": {},
   "start_time": "2025-03-16T23:40:17.720568",
   "version": "2.6.0"
  }
 },
 "nbformat": 4,
 "nbformat_minor": 5
}
